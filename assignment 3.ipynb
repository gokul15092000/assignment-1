{
 "cells": [
  {
   "cell_type": "markdown",
   "metadata": {},
   "source": [
    "# ASSIGNMENT 3"
   ]
  },
  {
   "cell_type": "raw",
   "metadata": {},
   "source": [
    "NAME   : J B GOKUL\n",
    "MOB NO.: 9094653036\n",
    "G MAIL : jbgokul2000@gmail.com\n",
    "course : DATASCIENCE 101-B1"
   ]
  },
  {
   "cell_type": "markdown",
   "metadata": {},
   "source": [
    "# Questions 1:"
   ]
  },
  {
   "cell_type": "raw",
   "metadata": {},
   "source": [
    "Create a numpy array starting from 2 till 50 with a stepsize of 3."
   ]
  },
  {
   "cell_type": "code",
   "execution_count": 2,
   "metadata": {},
   "outputs": [
    {
     "name": "stdout",
     "output_type": "stream",
     "text": [
      "[ 2  5  8 11 14 17 20 23 26 29 32 35 38 41 44 47]\n"
     ]
    }
   ],
   "source": [
    "import numpy as np\n",
    "array = np.arange(2,50,3)\n",
    "print(array)"
   ]
  },
  {
   "cell_type": "markdown",
   "metadata": {},
   "source": [
    "# Questions 2:"
   ]
  },
  {
   "cell_type": "raw",
   "metadata": {},
   "source": [
    "Accept two lists of 5 elements each from the user.\n",
    "Convert them to numpy arrays. Concatenate these arrays and print it. Also sort these arrays and print it."
   ]
  },
  {
   "cell_type": "code",
   "execution_count": 3,
   "metadata": {},
   "outputs": [
    {
     "name": "stdout",
     "output_type": "stream",
     "text": [
      "12\n",
      "76\n",
      "45\n",
      "6\n",
      "43\n",
      "34\n",
      "55\n",
      "32\n",
      "26\n",
      "76\n",
      "[ 6 12 26 32 34 43 45 55 76 76]\n"
     ]
    }
   ],
   "source": [
    "a=np.array([int(input()) for i in range(5)])\n",
    "b=np.array([int(input()) for i in range(5)])\n",
    "print(np.sort(np.concatenate((a,b))))"
   ]
  },
  {
   "cell_type": "markdown",
   "metadata": {},
   "source": [
    "# Questions 3:"
   ]
  },
  {
   "cell_type": "raw",
   "metadata": {},
   "source": [
    "Write a code snippet to find the dimensions of a ndarray and its size."
   ]
  },
  {
   "cell_type": "code",
   "execution_count": 7,
   "metadata": {},
   "outputs": [
    {
     "name": "stdout",
     "output_type": "stream",
     "text": [
      "the size of the array is 6\n",
      "the dimension of the array is 1\n"
     ]
    }
   ],
   "source": [
    "arr=np.array([31,42,38,94,15,63])\n",
    "print(\"the size of the array is\",arr.size)\n",
    "print(\"the dimension of the array is\",arr.ndim)"
   ]
  },
  {
   "cell_type": "markdown",
   "metadata": {},
   "source": [
    "# Questions 4:"
   ]
  },
  {
   "cell_type": "raw",
   "metadata": {},
   "source": [
    "How to convert a 1D array into a 2D array? Demonstrate with the help of a code snippet\n",
    "Hint: np.newaxis, np.expand_dims"
   ]
  },
  {
   "cell_type": "code",
   "execution_count": 10,
   "metadata": {},
   "outputs": [
    {
     "name": "stdout",
     "output_type": "stream",
     "text": [
      "1d array\n",
      " [10 31 52 93 14 55  6 47 28 99]\n",
      "2d array\n",
      " [[10 31]\n",
      " [52 93]\n",
      " [14 55]\n",
      " [ 6 47]\n",
      " [28 99]]\n"
     ]
    }
   ],
   "source": [
    "arr_1d = np.array([10,31,52,93,14,55,6,47,28,99])\n",
    "print(\"1d array\\n\",arr_1d)\n",
    "arr_2d = np.reshape(arr_1d,(5,2))\n",
    "print(\"2d array\\n\",arr_2d)"
   ]
  },
  {
   "cell_type": "markdown",
   "metadata": {},
   "source": [
    "# Questions 5:"
   ]
  },
  {
   "cell_type": "raw",
   "metadata": {},
   "source": [
    "Consider two square numpy arrays. Stack them vertically and horizontally."
   ]
  },
  {
   "cell_type": "code",
   "execution_count": 16,
   "metadata": {},
   "outputs": [
    {
     "name": "stdout",
     "output_type": "stream",
     "text": [
      "Vertical stacking:\n",
      " [[11 22]\n",
      " [33 44]\n",
      " [55 66]\n",
      " [77 88]]\n",
      "horizantal stacking:\n",
      " [[11 22 55 66]\n",
      " [33 44 77 88]]\n"
     ]
    }
   ],
   "source": [
    "x = np.array([[11,22],[33,44]]) \n",
    "y = np.array([[55,66],[77,88]])\n",
    "print(\"Vertical stacking:\\n\", np.vstack((x,y)))             # vertical stacking\n",
    "print(\"horizantal stacking:\\n\",np.hstack((x,y)))              # horizontal stacking\n",
    "\n"
   ]
  },
  {
   "cell_type": "markdown",
   "metadata": {},
   "source": [
    "# Questions 6:"
   ]
  },
  {
   "cell_type": "raw",
   "metadata": {},
   "source": [
    "How to get unique items and counts of unique items?"
   ]
  },
  {
   "cell_type": "code",
   "execution_count": 18,
   "metadata": {},
   "outputs": [
    {
     "name": "stdout",
     "output_type": "stream",
     "text": [
      "The unique values from 1st list is\n",
      "[10 20 30 40 70 80 90]\n",
      "No of unique items in the list are: 7\n"
     ]
    }
   ],
   "source": [
    "def unique(list1): \n",
    "    x = np.array(list1) \n",
    "    print(np.unique(x)) \n",
    "list1 = [10,20,10,30,40,40,70,80,80,90] \n",
    "print(\"The unique values from 1st list is\") \n",
    "unique(list1)\n",
    "new_set = set(list1) \n",
    "print(\"No of unique items in the list are:\", len(new_set))"
   ]
  }
 ],
 "metadata": {
  "kernelspec": {
   "display_name": "Python 3",
   "language": "python",
   "name": "python3"
  },
  "language_info": {
   "codemirror_mode": {
    "name": "ipython",
    "version": 3
   },
   "file_extension": ".py",
   "mimetype": "text/x-python",
   "name": "python",
   "nbconvert_exporter": "python",
   "pygments_lexer": "ipython3",
   "version": "3.8.3"
  }
 },
 "nbformat": 4,
 "nbformat_minor": 4
}
